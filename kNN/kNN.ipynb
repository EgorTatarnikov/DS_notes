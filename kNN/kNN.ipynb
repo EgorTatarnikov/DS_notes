{
 "cells": [
  {
   "cell_type": "code",
   "execution_count": 1,
   "id": "0a52db30-48d3-483b-9adc-7db67076de5e",
   "metadata": {},
   "outputs": [],
   "source": [
    "import pandas\n",
    "\n",
    "# из sklearn.neighbors импортируйте алгоритм KNeighborsClassifier\n",
    "from sklearn.neighbors import KNeighborsClassifier\n",
    "\n",
    "# импортируйте метрику доли правильных ответов accuracy_score из sklearn.metrics\n",
    "from sklearn.metrics import accuracy_score "
   ]
  },
  {
   "cell_type": "code",
   "execution_count": 2,
   "id": "78e76181-423e-42cb-9227-490b8e60c4a7",
   "metadata": {},
   "outputs": [
    {
     "name": "stdout",
     "output_type": "stream",
     "text": [
      "      Age  Work_Experience  Family_Size  Segmentation\n",
      "0      72              1.0          1.0             0\n",
      "1      45              1.0          2.0             0\n",
      "2      31              8.0          4.0             0\n",
      "3      29              1.0          5.0             0\n",
      "4      37              0.0          3.0             1\n",
      "...   ...              ...          ...           ...\n",
      "2197   29              2.0          5.0             0\n",
      "2198   20              8.0          3.0             0\n",
      "2199   45              0.0          3.0             1\n",
      "2200   45              1.0          2.0             1\n",
      "2201   66              0.0          1.0             0\n",
      "\n",
      "[2202 rows x 4 columns]\n",
      "     Age  Work_Experience  Family_Size  Segmentation\n",
      "0     69              0.0          1.0             0\n",
      "1     66              1.0          3.0             1\n",
      "2     55              2.0          3.0             1\n",
      "3     81              1.0          2.0             1\n",
      "4     37              0.0          1.0             0\n",
      "..   ...              ...          ...           ...\n",
      "695   73              0.0          1.0             1\n",
      "696   43              0.0          1.0             0\n",
      "697   43              0.0          2.0             0\n",
      "698   31              0.0          9.0             0\n",
      "699   19              1.0          3.0             0\n",
      "\n",
      "[700 rows x 4 columns]\n"
     ]
    }
   ],
   "source": [
    "train_data = pandas.read_csv('Train.csv') # прочитайте данные кофейной компании для обучения и сохраните в переменную train_data\n",
    "test_data = pandas.read_csv('Test.csv') # прочитайте данные кофейной компании для теста и сохраните в переменную test_data\n",
    "\n",
    "#print(train_data.to_string())\n",
    "print(train_data)\n",
    "#print(test_data.to_string())\n",
    "print(test_data)"
   ]
  },
  {
   "cell_type": "code",
   "execution_count": 3,
   "id": "ac492e3d-f5f5-4b25-b6e8-95b5100f2a6c",
   "metadata": {},
   "outputs": [
    {
     "name": "stdout",
     "output_type": "stream",
     "text": [
      "Размер обучающей выборки X_train: (2202, 3)\n",
      "Размер целевой переменной y_train: (2202,)\n",
      "Размер тестовой выборки X_test: (700, 3)\n",
      "Размер целевой переменной y_test: (700,)\n"
     ]
    }
   ],
   "source": [
    "X_train = train_data.drop('Segmentation', axis=1) # подготовьте обучающую выборку и сохраните в переменную X_train\n",
    "y_train = train_data['Segmentation']# сохраните целевую переменную в y_train\n",
    "\n",
    "X_test = test_data.drop('Segmentation', axis=1) # подготовьте тестовую выборку и сохраните в переменную X_test\n",
    "y_test = test_data['Segmentation']# сохраните целевую переменную в y_test\n",
    "\n",
    "print(\"Размер обучающей выборки X_train:\", X_train.shape) # выведите на экран размер обучающей выборки\n",
    "print(\"Размер целевой переменной y_train:\", y_train.shape) # выведите на экран размер целевой переменной на обучении\n",
    "print(\"Размер тестовой выборки X_test:\", X_test.shape) # выведите на экран размер тестовой выборки\n",
    "print(\"Размер целевой переменной y_test:\", y_test.shape) # выведите на экран размер целевой переменной на тесте"
   ]
  },
  {
   "cell_type": "code",
   "execution_count": 4,
   "id": "de5f9317-dbbc-4e6d-8ac7-d6af9ca09f06",
   "metadata": {},
   "outputs": [
    {
     "name": "stdout",
     "output_type": "stream",
     "text": [
      "KNeighborsClassifier(n_neighbors=30)\n"
     ]
    }
   ],
   "source": [
    "# вызовите алгоритм KNeighborsClassifier со значением 30 у параметра n_neighbors\n",
    "knn = KNeighborsClassifier(n_neighbors=30) \n",
    "\n",
    "print(knn) # выведите на экран модель KNeighborsClassifier"
   ]
  },
  {
   "cell_type": "code",
   "execution_count": 5,
   "id": "a64f5969-5eac-4afc-99c8-6d188904e39c",
   "metadata": {},
   "outputs": [
    {
     "name": "stdout",
     "output_type": "stream",
     "text": [
      "[1 1 1 0 0 1 1 0 1 0 1 1 0 0 0 1 1 0 1 1 1 0 0 0 0 1 1 1 0 1 0 1 1 0 0 1 0\n",
      " 0 1 0 1 1 0 1 1 0 0 1 1 1 0 1 1 0 1 1 1 1 0 1 1 1 1 0 0 0 1 0 0 1 1 0 1 0\n",
      " 0 0 1 1 0 1 0 1 1 0 1 1 1 1 0 1 0 1 1 1 0 1 1 0 0 1 0 1 1 0 0 1 1 1 1 0 1\n",
      " 1 0 1 1 0 1 1 1 0 1 1 0 0 0 1 1 0 0 0 0 1 0 1 0 0 0 0 1 1 0 0 0 1 0 0 0 1\n",
      " 0 1 1 0 0 0 0 1 0 0 0 1 1 0 1 0 0 1 1 1 0 0 0 1 1 0 0 0 1 1 1 0 0 0 1 1 1\n",
      " 1 1 0 1 0 0 0 0 1 1 0 1 1 0 1 1 1 1 1 1 1 0 0 1 0 1 0 0 1 0 0 1 1 0 1 1 0\n",
      " 0 0 1 1 1 1 0 0 1 0 0 1 1 1 0 1 1 1 1 0 1 0 1 0 1 0 1 0 0 1 1 0 0 0 1 0 0\n",
      " 0 1 0 1 1 1 1 1 1 0 1 1 0 1 1 1 0 0 1 0 0 0 0 0 0 0 0 0 1 0 1 0 1 0 0 0 0\n",
      " 1 0 1 0 0 0 1 1 1 0 0 1 0 0 1 0 1 1 0 1 0 1 0 0 0 1 1 0 1 0 0 1 1 0 1 1 0\n",
      " 0 0 1 1 1 0 1 1 1 1 0 0 1 1 0 1 0 0 1 0 1 0 0 0 0 0 0 0 1 1 0 1 1 0 0 0 1\n",
      " 1 1 1 0 1 0 1 1 1 1 0 1 1 0 1 0 1 1 0 1 0 1 1 0 1 0 0 1 1 1 1 0 0 1 1 1 1\n",
      " 1 1 0 0 0 0 0 1 1 1 1 0 0 1 1 0 1 0 1 1 1 0 0 1 0 1 0 1 0 1 1 1 1 0 1 0 1\n",
      " 1 1 0 1 1 0 1 1 1 0 0 0 0 1 1 0 0 1 0 0 1 0 0 0 1 1 0 0 1 0 1 1 1 0 0 1 0\n",
      " 0 1 1 1 1 1 1 0 1 1 0 1 1 0 0 1 0 1 0 0 0 1 1 0 1 1 0 1 1 0 1 1 0 0 0 0 1\n",
      " 0 1 1 1 1 0 0 0 0 1 0 0 1 1 1 0 1 1 0 0 1 0 0 0 0 1 1 1 1 0 0 0 0 0 0 1 1\n",
      " 0 0 0 0 1 1 1 0 1 1 0 1 0 0 0 0 0 0 0 0 0 1 1 0 1 1 1 1 1 1 0 0 1 1 1 1 1\n",
      " 0 0 1 1 0 0 1 0 0 0 0 1 1 1 0 1 1 1 1 0 1 0 0 0 0 1 0 1 1 0 0 1 1 1 0 0 0\n",
      " 1 0 0 0 1 1 1 1 1 1 1 0 1 1 0 1 0 0 0 0 0 0 1 0 1 0 1 0 0 0 0 0 0 1 1 1 0\n",
      " 1 1 0 0 0 1 1 0 1 1 0 1 0 1 0 0 1 0 1 0 1 0 0 1 1 0 1 0 0 1 1 1 0 0]\n"
     ]
    }
   ],
   "source": [
    "# обучите модель по обучающей выборке классифицировать классы\n",
    "knn.fit(X_train, y_train)\n",
    "\n",
    "y_pred = knn.predict(X_test) # запустите модель строить прогнозы на тестовой выборке\n",
    "\n",
    "print(y_pred) # выведите на экран получившиеся предсказания"
   ]
  },
  {
   "cell_type": "code",
   "execution_count": 6,
   "id": "b5d0184e-ed6c-40b5-9f39-c23aeeaf98c9",
   "metadata": {},
   "outputs": [
    {
     "name": "stdout",
     "output_type": "stream",
     "text": [
      "Доля правильных ответов: 0.7628571428571429\n"
     ]
    }
   ],
   "source": [
    "# подсчитайте долю правильных ответов предсказанных значений целевой переменной с истинными ответами на тестовой выборке\n",
    "accuracy = accuracy_score(y_test, y_pred)\n",
    "\n",
    "print(\"Доля правильных ответов:\", accuracy) # выведите на экран получившиеся предсказания"
   ]
  }
 ],
 "metadata": {
  "kernelspec": {
   "display_name": "Python 3 (ipykernel)",
   "language": "python",
   "name": "python3"
  },
  "language_info": {
   "codemirror_mode": {
    "name": "ipython",
    "version": 3
   },
   "file_extension": ".py",
   "mimetype": "text/x-python",
   "name": "python",
   "nbconvert_exporter": "python",
   "pygments_lexer": "ipython3",
   "version": "3.11.7"
  }
 },
 "nbformat": 4,
 "nbformat_minor": 5
}
